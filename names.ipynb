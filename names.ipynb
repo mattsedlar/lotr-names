{
 "cells": [
  {
   "cell_type": "markdown",
   "metadata": {},
   "source": [
    "# Are You a Tolkien Baby?"
   ]
  },
  {
   "cell_type": "markdown",
   "metadata": {},
   "source": [
    "The Social Security Administration makes all its data on baby names available to the public, which as you can imagine leads to some fun analyses. I decided to look at the influence Tolkien, in particular the *Lord of the Rings* novels, has had on baby names over the decades since the books were published.\n",
    "\n",
    "## The Data\n",
    "\n",
    "You can download the entire data set from [here](https://www.ssa.gov/oact/babynames/limits.html). It goes back as far as 1880. I was only concerned with 1954 to 2015 because '54 was the year the first two books were published and '15 is the latest year available. \n",
    "\n",
    "The Social Security Administration notes: \n",
    "\n",
    "> To safeguard privacy, we restrict our list of names to those with at least 5 occurrences\n",
    "\n",
    "So I'm not getting *every* person out there named after a Tolkien character, but it's good enough for a blog post."
   ]
  },
  {
   "cell_type": "code",
   "execution_count": 1,
   "metadata": {
    "collapsed": true
   },
   "outputs": [],
   "source": [
    "import pandas as pd\n",
    "import matplotlib.pyplot as plt\n",
    "import numpy as np\n",
    "%matplotlib inline"
   ]
  },
  {
   "cell_type": "code",
   "execution_count": 2,
   "metadata": {
    "collapsed": true
   },
   "outputs": [],
   "source": [
    "years = range(1954,2016)"
   ]
  },
  {
   "cell_type": "code",
   "execution_count": 3,
   "metadata": {
    "collapsed": true
   },
   "outputs": [],
   "source": [
    "pieces = []"
   ]
  },
  {
   "cell_type": "code",
   "execution_count": 4,
   "metadata": {
    "collapsed": true
   },
   "outputs": [],
   "source": [
    "columns =['name','sex','births']"
   ]
  },
  {
   "cell_type": "markdown",
   "metadata": {},
   "source": [
    "After downloading and extracting the data into a folder, I ran a `for` loop over each year to pull all relevant data into one place."
   ]
  },
  {
   "cell_type": "code",
   "execution_count": 5,
   "metadata": {
    "collapsed": false
   },
   "outputs": [],
   "source": [
    "for year in years:\n",
    "    path = 'data/yob%d.txt' % year\n",
    "    frame = pd.read_csv(path, names=columns)\n",
    "    \n",
    "    frame['year'] = year\n",
    "    pieces.append(frame)"
   ]
  },
  {
   "cell_type": "code",
   "execution_count": 6,
   "metadata": {
    "collapsed": true
   },
   "outputs": [],
   "source": [
    "names = pd.concat(pieces, ignore_index=True)"
   ]
  },
  {
   "cell_type": "markdown",
   "metadata": {},
   "source": [
    "Next, I compiled a list of all the main characters from the novels."
   ]
  },
  {
   "cell_type": "code",
   "execution_count": 7,
   "metadata": {
    "collapsed": true
   },
   "outputs": [],
   "source": [
    "character_names = np.array([\"Aragorn\",\"Arwen\",\"Bilbo\",\"Boromir\",\"Denethor\",\"Elrond\",\"Eomer\",\"Eowyn\",\"Faramir\",\"Frodo\",\"Galadriel\",\"Gandalf\",\"Gimli\",\"Gollum\",\"Haldir\",\"Isildur\",\"Legolas\",\"Meriadoc\",\"Peregrin\",\"Samwise\",\"Saruman\",\"Theoden\"])"
   ]
  },
  {
   "cell_type": "code",
   "execution_count": 8,
   "metadata": {
    "collapsed": false
   },
   "outputs": [
    {
     "name": "stdout",
     "output_type": "stream",
     "text": [
      "['Aragorn' 'Arwen' 'Bilbo' 'Boromir' 'Denethor' 'Elrond' 'Eomer' 'Eowyn'\n",
      " 'Faramir' 'Frodo' 'Galadriel' 'Gandalf' 'Gimli' 'Gollum' 'Haldir'\n",
      " 'Isildur' 'Legolas' 'Meriadoc' 'Peregrin' 'Samwise' 'Saruman' 'Theoden']\n"
     ]
    }
   ],
   "source": [
    "print(character_names)"
   ]
  },
  {
   "cell_type": "markdown",
   "metadata": {},
   "source": [
    "I then used that list to subset the dataframe with all names."
   ]
  },
  {
   "cell_type": "code",
   "execution_count": 9,
   "metadata": {
    "collapsed": false
   },
   "outputs": [],
   "source": [
    "names_df = names[names['name'].isin(character_names)]"
   ]
  },
  {
   "cell_type": "markdown",
   "metadata": {},
   "source": [
    "Then using the `pandas` `pivot_table` function, I looked at all births with names from a Tolkien character by year."
   ]
  },
  {
   "cell_type": "code",
   "execution_count": 10,
   "metadata": {
    "collapsed": false
   },
   "outputs": [],
   "source": [
    "names_pivot = pd.pivot_table(names_df,index=['year'],aggfunc=sum)"
   ]
  },
  {
   "cell_type": "markdown",
   "metadata": {},
   "source": [
    "## One Ring to Name Them All\n",
    "\n",
    "Looking at the first five observations, it appears that the first year in which 5 or more births were recorded with names from the list was 1968."
   ]
  },
  {
   "cell_type": "code",
   "execution_count": 11,
   "metadata": {
    "collapsed": false
   },
   "outputs": [
    {
     "name": "stdout",
     "output_type": "stream",
     "text": [
      "      births\n",
      "year        \n",
      "1968       5\n",
      "1969      10\n",
      "1970      30\n",
      "1971      23\n",
      "1972      22\n"
     ]
    }
   ],
   "source": [
    "print(names_pivot.head())"
   ]
  },
  {
   "cell_type": "markdown",
   "metadata": {},
   "source": [
    "The first figure below shows all births with character names from the list, from 1968 to 2015. It appears that there was a slight uptick in the 70s, which increased toward the end of the decade presumably because of the 1978 animated film by Ralph Bakshi. Then the number of births skyrockets after the release of Peter Jackson's first film in 2001, *The Fellowship of the Ring*."
   ]
  },
  {
   "cell_type": "code",
   "execution_count": 12,
   "metadata": {
    "collapsed": false
   },
   "outputs": [
    {
     "data": {
      "text/plain": [
       "<matplotlib.text.Text at 0x8f85dd0>"
      ]
     },
     "execution_count": 12,
     "metadata": {},
     "output_type": "execute_result"
    },
    {
     "data": {
      "image/png": "[encoded data removed]",
      "text/plain": [
       "<matplotlib.figure.Figure at 0x8f81510>"
      ]
     },
     "metadata": {},
     "output_type": "display_data"
    }
   ],
   "source": [
    "fig,ax = plt.subplots(figsize=(9,6))\n",
    "ax.plot(names_pivot)\n",
    "# Hide the right and top spines\n",
    "ax.spines['right'].set_visible(False)\n",
    "ax.spines['top'].set_visible(False)\n",
    "# Only show ticks on the left and bottom spines\n",
    "ax.yaxis.set_ticks_position('left')\n",
    "ax.xaxis.set_ticks_position('bottom')\n",
    "plt.xlim(1968,2015)\n",
    "plt.title(\"Children Named After Tolkien Characters, 1968-2015\\n\", fontsize=20)\n",
    "plt.xlabel(\"Years\\n\\n Source:Social Security Administration\")\n",
    "plt.ylabel(\"Births\")"
   ]
  },
  {
   "cell_type": "markdown",
   "metadata": {},
   "source": [
    "Next, I broke the births down by gender."
   ]
  },
  {
   "cell_type": "code",
   "execution_count": 13,
   "metadata": {
    "collapsed": false
   },
   "outputs": [],
   "source": [
    "boys = names_df[names_df['sex']==\"M\"]"
   ]
  },
  {
   "cell_type": "code",
   "execution_count": 14,
   "metadata": {
    "collapsed": false
   },
   "outputs": [],
   "source": [
    "girls = names_df[names_df['sex']==\"F\"]"
   ]
  },
  {
   "cell_type": "markdown",
   "metadata": {},
   "source": [
    "As you can see from the figure below, the trend is mostly girls. Considering the names for men in the *Lord of the Rings* novels, I can see why a name like Arwen is more popular than Gandalf. (**Full disclosure**: A former colleague of mine is named Arwen and I actually think it's a cool name. Sadly I don't know any Gandalfs)."
   ]
  },
  {
   "cell_type": "code",
   "execution_count": 15,
   "metadata": {
    "collapsed": false
   },
   "outputs": [
    {
     "data": {
      "text/plain": [
       "<matplotlib.legend.Legend at 0x8d45d90>"
      ]
     },
     "execution_count": 15,
     "metadata": {},
     "output_type": "execute_result"
    },
    {
     "data": {
      "image/png": "[encoded data removed]",
      "text/plain": [
       "<matplotlib.figure.Figure at 0x442f310>"
      ]
     },
     "metadata": {},
     "output_type": "display_data"
    }
   ],
   "source": [
    "fig,ax = plt.subplots(figsize=(10,6)) \n",
    "ax.plot(boys['year'],boys['births'],label=\"Boys\")\n",
    "ax.plot(girls['year'],girls['births'],label=\"Girls\")\n",
    "# Hide the right and top spines\n",
    "ax.spines['right'].set_visible(False)\n",
    "ax.spines['top'].set_visible(False)\n",
    "# Only show ticks on the left and bottom spines\n",
    "ax.yaxis.set_ticks_position('left')\n",
    "ax.xaxis.set_ticks_position('bottom')\n",
    "plt.xlim(1968,2015)\n",
    "plt.xlabel(\"Year\\n\\n Source:Social Security Administration\")\n",
    "plt.ylabel(\"Births\")\n",
    "plt.title(\"Children Named After Tolkien Characters, 1968-2015\\n\", fontsize=20)\n",
    "ax.legend()"
   ]
  },
  {
   "cell_type": "markdown",
   "metadata": {},
   "source": [
    "So which names are the most popular by gender?"
   ]
  },
  {
   "cell_type": "code",
   "execution_count": 16,
   "metadata": {
    "collapsed": false
   },
   "outputs": [],
   "source": [
    "boys_names = boys.pivot_table(boys, index=['name'],aggfunc=np.sum)"
   ]
  },
  {
   "cell_type": "code",
   "execution_count": 17,
   "metadata": {
    "collapsed": false
   },
   "outputs": [
    {
     "data": {
      "text/html": [
       "<div>\n",
       "<table border=\"1\" class=\"dataframe\">\n",
       "  <thead>\n",
       "    <tr style=\"text-align: right;\">\n",
       "      <th></th>\n",
       "      <th>births</th>\n",
       "    </tr>\n",
       "    <tr>\n",
       "      <th>name</th>\n",
       "      <th></th>\n",
       "    </tr>\n",
       "  </thead>\n",
       "  <tbody>\n",
       "    <tr>\n",
       "      <th>Theoden</th>\n",
       "      <td>130</td>\n",
       "    </tr>\n",
       "    <tr>\n",
       "      <th>Samwise</th>\n",
       "      <td>49</td>\n",
       "    </tr>\n",
       "    <tr>\n",
       "      <th>Aragorn</th>\n",
       "      <td>43</td>\n",
       "    </tr>\n",
       "    <tr>\n",
       "      <th>Peregrin</th>\n",
       "      <td>29</td>\n",
       "    </tr>\n",
       "    <tr>\n",
       "      <th>Legolas</th>\n",
       "      <td>13</td>\n",
       "    </tr>\n",
       "    <tr>\n",
       "      <th>Gandalf</th>\n",
       "      <td>5</td>\n",
       "    </tr>\n",
       "  </tbody>\n",
       "</table>\n",
       "</div>"
      ],
      "text/plain": [
       "          births\n",
       "name            \n",
       "Theoden      130\n",
       "Samwise       49\n",
       "Aragorn       43\n",
       "Peregrin      29\n",
       "Legolas       13\n",
       "Gandalf        5"
      ]
     },
     "execution_count": 17,
     "metadata": {},
     "output_type": "execute_result"
    }
   ],
   "source": [
    "boys_names = boys_names.drop('year',1)\n",
    "boys_names.sort_values(['births'],ascending=False)"
   ]
  },
  {
   "cell_type": "markdown",
   "metadata": {},
   "source": [
    "For boys, Theoden leads the very small pack, followed by Samwise, Aragorn and Peregrin. It looks like Legolas and Gandalf are the least-popular names. If you know a Gandalf, congratulations, that's pretty rare! Based on the most-recent monthly population estimates for the United States by the U.S. Census Bureau, Population Division, there were 312,418,820 people living in the U.S as of July 2015.<sup>[1]</sup> That means 0.00000160041% of the population is named Gandalf!\n",
    "\n",
    "Samwise a tough name. Even if you knew someone named Samwise, he'd probably go by Sam. On the flipside, if someone is named Sam, it's difficult to tell (short of interviewing the parents) whether the name was inspired by Samwise or not.\n",
    "\n",
    "The figure below shows the number of children named \"Sam\" since the books were published starting in 1954."
   ]
  },
  {
   "cell_type": "code",
   "execution_count": 18,
   "metadata": {
    "collapsed": false
   },
   "outputs": [
    {
     "data": {
      "text/plain": [
       "<matplotlib.text.Text at 0x42b2b10>"
      ]
     },
     "execution_count": 18,
     "metadata": {},
     "output_type": "execute_result"
    },
    {
     "data": {
      "image/png": "[encoded data removed]",
      "text/plain": [
       "<matplotlib.figure.Figure at 0x8d30210>"
      ]
     },
     "metadata": {},
     "output_type": "display_data"
    }
   ],
   "source": [
    "sams = names[names['name']==\"Sam\"]\n",
    "sams_pivot = pd.pivot_table(sams,index=['year'],aggfunc=sum)\n",
    "fig,ax = plt.subplots(figsize=(9,6))\n",
    "ax.plot(sams_pivot)\n",
    "# Hide the right and top spines\n",
    "ax.spines['right'].set_visible(False)\n",
    "ax.spines['top'].set_visible(False)\n",
    "# Only show ticks on the left and bottom spines\n",
    "ax.yaxis.set_ticks_position('left')\n",
    "ax.xaxis.set_ticks_position('bottom')\n",
    "plt.xlim(1954,2015)\n",
    "plt.title(\"Children Named 'Sam', 1954-2015\\n\", fontsize=20)\n",
    "plt.xlabel(\"Years\\n\\n Source:Social Security Administration\")\n",
    "plt.ylabel(\"Births\")"
   ]
  },
  {
   "cell_type": "markdown",
   "metadata": {},
   "source": [
    "There's a peak in 1960, but who knows if the books were responsible for that.\n",
    "\n",
    "Next, I looked at the girls names."
   ]
  },
  {
   "cell_type": "code",
   "execution_count": 19,
   "metadata": {
    "collapsed": true
   },
   "outputs": [],
   "source": [
    "girls_names = girls.pivot_table(girls, index=['name'],aggfunc=np.sum)"
   ]
  },
  {
   "cell_type": "code",
   "execution_count": 20,
   "metadata": {
    "collapsed": false
   },
   "outputs": [
    {
     "data": {
      "text/html": [
       "<div>\n",
       "<table border=\"1\" class=\"dataframe\">\n",
       "  <thead>\n",
       "    <tr style=\"text-align: right;\">\n",
       "      <th></th>\n",
       "      <th>births</th>\n",
       "    </tr>\n",
       "    <tr>\n",
       "      <th>name</th>\n",
       "      <th></th>\n",
       "    </tr>\n",
       "  </thead>\n",
       "  <tbody>\n",
       "    <tr>\n",
       "      <th>Arwen</th>\n",
       "      <td>1843</td>\n",
       "    </tr>\n",
       "    <tr>\n",
       "      <th>Eowyn</th>\n",
       "      <td>879</td>\n",
       "    </tr>\n",
       "    <tr>\n",
       "      <th>Galadriel</th>\n",
       "      <td>174</td>\n",
       "    </tr>\n",
       "  </tbody>\n",
       "</table>\n",
       "</div>"
      ],
      "text/plain": [
       "           births\n",
       "name             \n",
       "Arwen        1843\n",
       "Eowyn         879\n",
       "Galadriel     174"
      ]
     },
     "execution_count": 20,
     "metadata": {},
     "output_type": "execute_result"
    }
   ],
   "source": [
    "girls_names = girls_names.drop('year',1)\n",
    "girls_names.sort_values(['births'],ascending=False)"
   ]
  },
  {
   "cell_type": "markdown",
   "metadata": {},
   "source": [
    "Arwen leads the pack for girls. In fact, considering the totals for each name, it's more likely you know a girl or woman named after a *LotR* character than a boy or man.  \n",
    "\n",
    "<hr/>\n",
    "\n",
    "[1] The monthly estimates beginning with August 1, 2015 are short-term projections."
   ]
  },
  {
   "cell_type": "code",
   "execution_count": null,
   "metadata": {
    "collapsed": true
   },
   "outputs": [],
   "source": []
  }
 ],
 "metadata": {
  "kernelspec": {
   "display_name": "Python 2",
   "language": "python",
   "name": "python2"
  },
  "language_info": {
   "codemirror_mode": {
    "name": "ipython",
    "version": 2
   },
   "file_extension": ".py",
   "mimetype": "text/x-python",
   "name": "python",
   "nbconvert_exporter": "python",
   "pygments_lexer": "ipython2",
   "version": "2.7.3"
  }
 },
 "nbformat": 4,
 "nbformat_minor": 0
}
